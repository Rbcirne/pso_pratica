{
  "nbformat": 4,
  "nbformat_minor": 0,
  "metadata": {
    "colab": {
      "name": "Analise_estatistica.ipynb",
      "version": "0.3.2",
      "provenance": []
    },
    "kernelspec": {
      "name": "python3",
      "display_name": "Python 3"
    }
  },
  "cells": [
    {
      "metadata": {
        "id": "MjUXy_BIaIxX",
        "colab_type": "text"
      },
      "cell_type": "markdown",
      "source": [
        "# Análise Estatística - Experimento PSO\n",
        "## Aluno : Renato Barbosa Cirne"
      ]
    },
    {
      "metadata": {
        "id": "66HhJAiG1OHX",
        "colab_type": "code",
        "colab": {}
      },
      "cell_type": "code",
      "source": [
        "import pandas as pd\n",
        "from scipy import stats"
      ],
      "execution_count": 0,
      "outputs": []
    },
    {
      "metadata": {
        "id": "_0ROtbj1Pvmp",
        "colab_type": "text"
      },
      "cell_type": "markdown",
      "source": [
        "#Análise 2"
      ]
    },
    {
      "metadata": {
        "id": "1273gbb9L8ty",
        "colab_type": "text"
      },
      "cell_type": "markdown",
      "source": [
        "##Rastrigin"
      ]
    },
    {
      "metadata": {
        "id": "WFLPVf6T2HD8",
        "colab_type": "code",
        "colab": {}
      },
      "cell_type": "code",
      "source": [
        "#CONSTANTE\n",
        "resultado=pd.read_csv('func_c_rastrigin.csv',';') #CARREGA DADOS\n",
        "resultado=resultado.tail(1) # SELECIONA OS RESULTADOS FINAIS\n",
        "resultado=resultado.drop(columns=['Unnamed: 0']) #EXCLUI A COLUNA REPETIDA DE INDICES\n",
        "resultado=resultado.iloc[0] #TRANSFORMA DATAFRAME EM ARRAY DE RESULTADOS (UMA COLUNA)\n",
        "#CLERC\n",
        "resultado1=pd.read_csv('func_clerc_rastrigin.csv',';')\n",
        "resultado1=resultado1.tail(1)\n",
        "resultado1=resultado1.drop(columns='Unnamed: 0')\n",
        "resultado1=resultado1.iloc[0]\n",
        "#DECAIMENTO\n",
        "resultado2=pd.read_csv('func_d_rastrigin.csv',';')\n",
        "resultado2=resultado2.tail(1)\n",
        "resultado2=resultado2.drop(columns='Unnamed: 0')\n",
        "resultado2=resultado2.iloc[0]"
      ],
      "execution_count": 0,
      "outputs": []
    },
    {
      "metadata": {
        "id": "V_C1O99iKm1J",
        "colab_type": "code",
        "outputId": "7157cbd7-f507-4215-e652-cf2c106e3bd4",
        "colab": {
          "base_uri": "https://localhost:8080/",
          "height": 66
        }
      },
      "cell_type": "code",
      "source": [
        "#(p-value>=0,05) -> Hipotese não refutada\n",
        "#(p-value<0,05) ->Hupotese aceita\n",
        "\n",
        "print(stats.ttest_ind(resultado,resultado1)) #CONSTANTE = CLERC\n",
        "print(stats.ttest_ind(resultado1,resultado2)) #DECAIMENTO = CLERC\n",
        "print(stats.ttest_ind(resultado,resultado2)) #CONSTANTE = DECAIMENTO\n"
      ],
      "execution_count": 5,
      "outputs": [
        {
          "output_type": "stream",
          "text": [
            "Ttest_indResult(statistic=35.854221252297165, pvalue=3.1507710392111696e-42)\n",
            "Ttest_indResult(statistic=-0.4339961623496384, pvalue=0.6658478531127168)\n",
            "Ttest_indResult(statistic=34.4741686290114, pvalue=2.982695152098182e-41)\n"
          ],
          "name": "stdout"
        }
      ]
    },
    {
      "metadata": {
        "id": "xeqrbzdrOHL0",
        "colab_type": "text"
      },
      "cell_type": "markdown",
      "source": [
        "##Rosenbrock"
      ]
    },
    {
      "metadata": {
        "id": "44XXlrgkOLpy",
        "colab_type": "code",
        "colab": {}
      },
      "cell_type": "code",
      "source": [
        "#CONSTANTE\n",
        "resultado=pd.read_csv('func_c_rosenbrock.csv',';') #CARREGA DADOS\n",
        "resultado=resultado.tail(1) # SELECIONA OS RESULTADOS FINAIS\n",
        "resultado=resultado.drop(columns=['Unnamed: 0']) #EXCLUI A COLUNA REPETIDA DE INDICES\n",
        "resultado=resultado.iloc[0] #TRANSFORMA DATAFRAME EM ARRAY DE RESULTADOS (UMA COLUNA)\n",
        "#CLERC\n",
        "resultado1=pd.read_csv('func_clerc_rosenbrock.csv',';')\n",
        "resultado1=resultado1.tail(1)\n",
        "resultado1=resultado1.drop(columns='Unnamed: 0')\n",
        "resultado1=resultado1.iloc[0]\n",
        "#DECAIMENTO\n",
        "resultado2=pd.read_csv('func_d_rosenbrock.csv',';')\n",
        "resultado2=resultado2.tail(1)\n",
        "resultado2=resultado2.drop(columns='Unnamed: 0')\n",
        "resultado2=resultado2.iloc[0]"
      ],
      "execution_count": 0,
      "outputs": []
    },
    {
      "metadata": {
        "id": "MI7_1lPjP35T",
        "colab_type": "code",
        "colab": {
          "base_uri": "https://localhost:8080/",
          "height": 66
        },
        "outputId": "a97c8e47-7759-4d2a-d70b-79c89e099925"
      },
      "cell_type": "code",
      "source": [
        "#(p-value>=0,05) -> Hipotese não refutada\n",
        "#(p-value<0,05) ->Hupotese aceita\n",
        "\n",
        "print(stats.ttest_ind(resultado,resultado1)) #CONSTANTE = CLERC\n",
        "print(stats.ttest_ind(resultado1,resultado2)) #DECAIMENTO = CLERC\n",
        "print(stats.ttest_ind(resultado,resultado2)) #CONSTANTE = DECAIMENTO"
      ],
      "execution_count": 7,
      "outputs": [
        {
          "output_type": "stream",
          "text": [
            "Ttest_indResult(statistic=-2.8709125708240837, pvalue=0.005646905968230649)\n",
            "Ttest_indResult(statistic=-1.0003579725939926, pvalue=0.321154729940241)\n",
            "Ttest_indResult(statistic=-1.1731148106903775, pvalue=0.24538597228346104)\n"
          ],
          "name": "stdout"
        }
      ]
    },
    {
      "metadata": {
        "id": "60EzPZkPOi-B",
        "colab_type": "text"
      },
      "cell_type": "markdown",
      "source": [
        "##Sphere"
      ]
    },
    {
      "metadata": {
        "id": "tf8ECyG9OqV6",
        "colab_type": "code",
        "colab": {}
      },
      "cell_type": "code",
      "source": [
        "#CONSTANTE\n",
        "resultado=pd.read_csv('func_c_sphere.csv',';') #CARREGA DADOS\n",
        "resultado=resultado.tail(1) # SELECIONA OS RESULTADOS FINAIS\n",
        "resultado=resultado.drop(columns=['Unnamed: 0']) #EXCLUI A COLUNA REPETIDA DE INDICES\n",
        "resultado=resultado.iloc[0] #TRANSFORMA DATAFRAME EM ARRAY DE RESULTADOS (UMA COLUNA)\n",
        "#CLERC\n",
        "resultado1=pd.read_csv('func_clerc_sphere.csv',';')\n",
        "resultado1=resultado1.tail(1)\n",
        "resultado1=resultado1.drop(columns='Unnamed: 0')\n",
        "resultado1=resultado1.iloc[0]\n",
        "#DECAIMENTO\n",
        "resultado2=pd.read_csv('func_d_sphere.csv',';')\n",
        "resultado2=resultado2.tail(1)\n",
        "resultado2=resultado2.drop(columns='Unnamed: 0')\n",
        "resultado2=resultado2.iloc[0]"
      ],
      "execution_count": 0,
      "outputs": []
    },
    {
      "metadata": {
        "id": "inhFy087O1dv",
        "colab_type": "code",
        "outputId": "d7b2b06c-82b8-429b-af28-0d534c64dff0",
        "colab": {
          "base_uri": "https://localhost:8080/",
          "height": 66
        }
      },
      "cell_type": "code",
      "source": [
        "#(p-value>=0,05) -> Hipotese não refutada\n",
        "#(p-value<0,05) ->Hupotese aceita\n",
        "\n",
        "print(stats.ttest_ind(resultado,resultado1)) #CONSTANTE = CLERC\n",
        "print(stats.ttest_ind(resultado1,resultado2)) #DECAIMENTO = CLERC\n",
        "print(stats.ttest_ind(resultado,resultado2)) #CONSTANTE = DECAIMENTO"
      ],
      "execution_count": 15,
      "outputs": [
        {
          "output_type": "stream",
          "text": [
            "Ttest_indResult(statistic=-6.950836873875573, pvalue=3.0341008707332394e-09)\n",
            "Ttest_indResult(statistic=-0.7207540983101708, pvalue=0.4738597489364731)\n",
            "Ttest_indResult(statistic=-6.61686653622651, pvalue=1.1222555789403525e-08)\n"
          ],
          "name": "stdout"
        }
      ]
    },
    {
      "metadata": {
        "id": "UcJdfDG0P5yl",
        "colab_type": "text"
      },
      "cell_type": "markdown",
      "source": [
        "#Análise 3"
      ]
    },
    {
      "metadata": {
        "id": "Vpp5w-EyP8Se",
        "colab_type": "text"
      },
      "cell_type": "markdown",
      "source": [
        "##Rastrigin"
      ]
    },
    {
      "metadata": {
        "id": "97lBjUucP_D7",
        "colab_type": "code",
        "colab": {
          "base_uri": "https://localhost:8080/",
          "height": 66
        },
        "outputId": "f5216885-3ec6-46a8-efde-955134929e7f"
      },
      "cell_type": "code",
      "source": [
        "#GLOBAL\n",
        "resultado=pd.read_csv('func_g_rastrigin.csv',';') #CARREGA DADOS\n",
        "resultado=resultado.tail(1) # SELECIONA OS RESULTADOS FINAIS\n",
        "resultado=resultado.drop(columns=['Unnamed: 0']) #EXCLUI A COLUNA REPETIDA DE INDICES\n",
        "resultado=resultado.iloc[0] #TRANSFORMA DATAFRAME EM ARRAY DE RESULTADOS (UMA COLUNA)\n",
        "#LOCAL\n",
        "resultado1=pd.read_csv('func_l_rastrigin.csv',';')\n",
        "resultado1=resultado1.tail(1)\n",
        "resultado1=resultado1.drop(columns='Unnamed: 0')\n",
        "resultado1=resultado1.iloc[0]\n",
        "#FOCAL\n",
        "resultado2=pd.read_csv('func_f_rastrigin.csv',';')\n",
        "resultado2=resultado2.tail(1)\n",
        "resultado2=resultado2.drop(columns='Unnamed: 0')\n",
        "resultado2=resultado2.iloc[0]\n",
        "\n",
        "#(p-value>=0,05) -> Hipotese não refutada\n",
        "#(p-value<0,05) ->Hupotese aceita\n",
        "\n",
        "print(stats.ttest_ind(resultado,resultado1)) #GLOBAL = LOCAL\n",
        "print(stats.ttest_ind(resultado1,resultado2)) #LOCAL = FOCAL\n",
        "print(stats.ttest_ind(resultado,resultado2)) #GLOBAL = FOCAL"
      ],
      "execution_count": 10,
      "outputs": [
        {
          "output_type": "stream",
          "text": [
            "Ttest_indResult(statistic=7.676559662087792, pvalue=1.7478575392357458e-10)\n",
            "Ttest_indResult(statistic=-17.550197952801728, pvalue=2.6128623009826265e-25)\n",
            "Ttest_indResult(statistic=-8.882157417217943, pvalue=1.5590172879077994e-12)\n"
          ],
          "name": "stdout"
        }
      ]
    },
    {
      "metadata": {
        "id": "lbQk_vZXQYb1",
        "colab_type": "text"
      },
      "cell_type": "markdown",
      "source": [
        "##Rosenbrock"
      ]
    },
    {
      "metadata": {
        "id": "cT_BjpAFQbOi",
        "colab_type": "code",
        "colab": {
          "base_uri": "https://localhost:8080/",
          "height": 66
        },
        "outputId": "94c715b2-47f1-4de0-8233-788e30148d0c"
      },
      "cell_type": "code",
      "source": [
        "#GLOBAL\n",
        "resultado=pd.read_csv('func_g_rosenbrock.csv',';') #CARREGA DADOS\n",
        "resultado=resultado.tail(1) # SELECIONA OS RESULTADOS FINAIS\n",
        "resultado=resultado.drop(columns=['Unnamed: 0']) #EXCLUI A COLUNA REPETIDA DE INDICES\n",
        "resultado=resultado.iloc[0] #TRANSFORMA DATAFRAME EM ARRAY DE RESULTADOS (UMA COLUNA)\n",
        "#LOCAL\n",
        "resultado1=pd.read_csv('func_l_rosenbrock.csv',';')\n",
        "resultado1=resultado1.tail(1)\n",
        "resultado1=resultado1.drop(columns='Unnamed: 0')\n",
        "resultado1=resultado1.iloc[0]\n",
        "#FOCAL\n",
        "resultado2=pd.read_csv('func_f_rosenbrock.csv',';')\n",
        "resultado2=resultado2.tail(1)\n",
        "resultado2=resultado2.drop(columns='Unnamed: 0')\n",
        "resultado2=resultado2.iloc[0]\n",
        "\n",
        "#(p-value>=0,05) -> Hipotese não refutada\n",
        "#(p-value<0,05) ->Hupotese aceita\n",
        "\n",
        "print(stats.ttest_ind(resultado,resultado1)) #GLOBAL = LOCAL\n",
        "print(stats.ttest_ind(resultado1,resultado2)) #LOCAL = FOCAL\n",
        "print(stats.ttest_ind(resultado,resultado2)) #GLOBAL = FOCAL"
      ],
      "execution_count": 11,
      "outputs": [
        {
          "output_type": "stream",
          "text": [
            "Ttest_indResult(statistic=3.9863992642429773, pvalue=0.00018448824106825405)\n",
            "Ttest_indResult(statistic=-2.931732134633855, pvalue=0.00476472643157798)\n",
            "Ttest_indResult(statistic=-2.855149347374174, pvalue=0.005899012951100577)\n"
          ],
          "name": "stdout"
        }
      ]
    },
    {
      "metadata": {
        "id": "6YbJq8ivSnCs",
        "colab_type": "text"
      },
      "cell_type": "markdown",
      "source": [
        "##Sphere"
      ]
    },
    {
      "metadata": {
        "id": "a0L3ewdRSo5K",
        "colab_type": "code",
        "colab": {
          "base_uri": "https://localhost:8080/",
          "height": 66
        },
        "outputId": "7cda51d3-5cb3-4c83-d678-098a5aaabdfd"
      },
      "cell_type": "code",
      "source": [
        "#GLOBAL\n",
        "resultado=pd.read_csv('func_g_sphere.csv',';') #CARREGA DADOS\n",
        "resultado=resultado.tail(1) # SELECIONA OS RESULTADOS FINAIS\n",
        "resultado=resultado.drop(columns=['Unnamed: 0']) #EXCLUI A COLUNA REPETIDA DE INDICES\n",
        "resultado=resultado.iloc[0] #TRANSFORMA DATAFRAME EM ARRAY DE RESULTADOS (UMA COLUNA)\n",
        "#LOCAL\n",
        "resultado1=pd.read_csv('func_l_sphere.csv',';')\n",
        "resultado1=resultado1.tail(1)\n",
        "resultado1=resultado1.drop(columns='Unnamed: 0')\n",
        "resultado1=resultado1.iloc[0]\n",
        "#FOCAL\n",
        "resultado2=pd.read_csv('func_f_sphere.csv',';')\n",
        "resultado2=resultado2.tail(1)\n",
        "resultado2=resultado2.drop(columns='Unnamed: 0')\n",
        "resultado2=resultado2.iloc[0]\n",
        "\n",
        "#(p-value>=0,05) -> Hipotese não refutada\n",
        "#(p-value<0,05) ->Hupotese aceita\n",
        "\n",
        "print(stats.ttest_ind(resultado,resultado1)) #GLOBAL = LOCAL\n",
        "print(stats.ttest_ind(resultado1,resultado2)) #LOCAL = FOCAL\n",
        "print(stats.ttest_ind(resultado,resultado2)) #GLOBAL = FOCAL"
      ],
      "execution_count": 13,
      "outputs": [
        {
          "output_type": "stream",
          "text": [
            "Ttest_indResult(statistic=4.721778837913888, pvalue=1.4479282166289194e-05)\n",
            "Ttest_indResult(statistic=-8.863807906133385, pvalue=1.6741719695744968e-12)\n",
            "Ttest_indResult(statistic=-8.134028529981814, pvalue=2.8954023540605915e-11)\n"
          ],
          "name": "stdout"
        }
      ]
    }
  ]
}